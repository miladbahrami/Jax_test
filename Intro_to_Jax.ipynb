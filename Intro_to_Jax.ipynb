{
  "nbformat": 4,
  "nbformat_minor": 0,
  "metadata": {
    "colab": {
      "name": "Intro to Jax.ipynb",
      "provenance": []
    },
    "kernelspec": {
      "name": "python3",
      "display_name": "Python 3"
    },
    "language_info": {
      "name": "python"
    },
    "accelerator": "GPU"
  },
  "cells": [
    {
      "cell_type": "markdown",
      "source": [
        "# Intro to Jax"
      ],
      "metadata": {
        "id": "xDlVDDIFGXVb"
      }
    },
    {
      "cell_type": "code",
      "source": [
        "from jax import grad"
      ],
      "metadata": {
        "id": "EWtMBGrStIU9"
      },
      "execution_count": 1,
      "outputs": []
    },
    {
      "cell_type": "code",
      "execution_count": 2,
      "metadata": {
        "id": "S9pEKwB6symC"
      },
      "outputs": [],
      "source": [
        "def f(x):\n",
        "  return x**2"
      ]
    },
    {
      "cell_type": "code",
      "source": [
        "f(3)"
      ],
      "metadata": {
        "colab": {
          "base_uri": "https://localhost:8080/"
        },
        "id": "X5sw5Mc5tNxo",
        "outputId": "4c8cde51-d00a-424c-fead-bfa99362a5a8"
      },
      "execution_count": 3,
      "outputs": [
        {
          "output_type": "execute_result",
          "data": {
            "text/plain": [
              "9"
            ]
          },
          "metadata": {},
          "execution_count": 3
        }
      ]
    },
    {
      "cell_type": "code",
      "source": [
        "grad_f = grad(f)"
      ],
      "metadata": {
        "id": "XQmymHg_tY2_"
      },
      "execution_count": 4,
      "outputs": []
    },
    {
      "cell_type": "code",
      "source": [
        "f(3.), grad_f(3.)"
      ],
      "metadata": {
        "colab": {
          "base_uri": "https://localhost:8080/"
        },
        "id": "eRQ83iXQtn9-",
        "outputId": "583b3dca-9c96-4717-982c-bf75d3a83748"
      },
      "execution_count": 5,
      "outputs": [
        {
          "output_type": "execute_result",
          "data": {
            "text/plain": [
              "(9.0, DeviceArray(6., dtype=float32))"
            ]
          },
          "metadata": {},
          "execution_count": 5
        }
      ]
    },
    {
      "cell_type": "code",
      "source": [
        "def f(x, y):\n",
        "  return y * x**2\n",
        "\n",
        "grad_f = grad(f, argnums=(0, 1))\n",
        "\n",
        "dx,dy = grad_f(1., 2.)\n",
        "\n",
        "dx,dy"
      ],
      "metadata": {
        "colab": {
          "base_uri": "https://localhost:8080/"
        },
        "id": "soPFLOveur4v",
        "outputId": "f73af097-ad88-4601-c3fc-e6929569b692"
      },
      "execution_count": 6,
      "outputs": [
        {
          "output_type": "execute_result",
          "data": {
            "text/plain": [
              "(DeviceArray(4., dtype=float32), DeviceArray(1., dtype=float32))"
            ]
          },
          "metadata": {},
          "execution_count": 6
        }
      ]
    },
    {
      "cell_type": "markdown",
      "source": [
        "# Arrays"
      ],
      "metadata": {
        "id": "TJtU0qtKGeD5"
      }
    },
    {
      "cell_type": "code",
      "source": [
        "import jax.numpy as np\n",
        "from jax import hessian\n",
        "\n",
        "def f(x):\n",
        "    return np.sum(x**2)\n",
        "\n",
        "grad_f = grad(f)\n",
        "hess_f = hessian(f)\n",
        "\n",
        "dx = grad_f(np.array([1., 2.]))\n",
        "hx = hess_f(np.array([1., 2.]))\n",
        "dx,hx"
      ],
      "metadata": {
        "colab": {
          "base_uri": "https://localhost:8080/"
        },
        "id": "qN7ofWVqBeiD",
        "outputId": "8e8aee71-d4c5-45ec-de12-600a83e8471f"
      },
      "execution_count": 7,
      "outputs": [
        {
          "output_type": "execute_result",
          "data": {
            "text/plain": [
              "(DeviceArray([2., 4.], dtype=float32), DeviceArray([[2., 0.],\n",
              "              [0., 2.]], dtype=float32))"
            ]
          },
          "metadata": {},
          "execution_count": 7
        }
      ]
    },
    {
      "cell_type": "markdown",
      "source": [
        "# Speed"
      ],
      "metadata": {
        "id": "GmeGABAEGjh7"
      }
    },
    {
      "cell_type": "code",
      "source": [
        "def g(x):\n",
        "    return np.sum(x**2)\n",
        "\n",
        "grad_g = grad(g)\n"
      ],
      "metadata": {
        "id": "KfvG59lMCpOA"
      },
      "execution_count": 8,
      "outputs": []
    },
    {
      "cell_type": "code",
      "source": [
        "%time _ = np.stack([grad_g(i) for i in np.linspace(0, 10, 1000)])\n"
      ],
      "metadata": {
        "colab": {
          "base_uri": "https://localhost:8080/"
        },
        "id": "ffgp6yQICsU6",
        "outputId": "dda36482-bd3b-4b1f-8ddf-7c9eb2428faa"
      },
      "execution_count": 9,
      "outputs": [
        {
          "output_type": "stream",
          "name": "stdout",
          "text": [
            "CPU times: user 3.39 s, sys: 595 ms, total: 3.98 s\n",
            "Wall time: 3.63 s\n"
          ]
        }
      ]
    },
    {
      "cell_type": "code",
      "source": [
        "from jax import jit\n",
        "\n",
        "def g(x):\n",
        "    return np.sum(x**2)\n",
        "\n",
        "grad_g = jit(grad(g))\n"
      ],
      "metadata": {
        "id": "rL_b2OquCwFd"
      },
      "execution_count": 10,
      "outputs": []
    },
    {
      "cell_type": "code",
      "source": [
        "%time _ = np.stack([grad_g(i) for i in np.linspace(0, 10, 1000)])\n"
      ],
      "metadata": {
        "colab": {
          "base_uri": "https://localhost:8080/"
        },
        "id": "2WiLW9fyC0cv",
        "outputId": "208d942c-bd28-4579-9c13-218fce3469b5"
      },
      "execution_count": 11,
      "outputs": [
        {
          "output_type": "stream",
          "name": "stdout",
          "text": [
            "CPU times: user 388 ms, sys: 132 ms, total: 520 ms\n",
            "Wall time: 433 ms\n"
          ]
        }
      ]
    },
    {
      "cell_type": "code",
      "source": [
        "from jax import vmap\n",
        "\n",
        "def g(x):\n",
        "    return np.sum(x**2)\n",
        "\n",
        "grad_g = jit(grad(g))\n"
      ],
      "metadata": {
        "id": "q1dCEVM2DrPF"
      },
      "execution_count": 12,
      "outputs": []
    },
    {
      "cell_type": "code",
      "source": [
        "%time _ = vmap(grad_g)(np.linspace(0, 10, 1000))\n"
      ],
      "metadata": {
        "colab": {
          "base_uri": "https://localhost:8080/"
        },
        "id": "fbK9nTUtDvEK",
        "outputId": "a2a322e8-05a2-4499-bef6-202d19836a6e"
      },
      "execution_count": 13,
      "outputs": [
        {
          "output_type": "stream",
          "name": "stdout",
          "text": [
            "CPU times: user 20.7 ms, sys: 445 µs, total: 21.2 ms\n",
            "Wall time: 72.3 ms\n"
          ]
        }
      ]
    },
    {
      "cell_type": "markdown",
      "source": [
        "# Full Train Loop"
      ],
      "metadata": {
        "id": "RwX7PLYoEpCc"
      }
    },
    {
      "cell_type": "code",
      "source": [
        "def predict(params, inputs):\n",
        "    return inputs @ params\n",
        "\n",
        "def mse(params, inputs, targets):\n",
        "    preds = predict(params, inputs)\n",
        "    return np.mean((preds - targets)**2)\n",
        "\n",
        "grad_fun = jit(grad(mse))\n"
      ],
      "metadata": {
        "id": "2XVAvkVkEnPA"
      },
      "execution_count": 14,
      "outputs": []
    },
    {
      "cell_type": "code",
      "source": [
        "import tqdm\n",
        "from numpy import zeros\n",
        "from numpy.random import normal\n",
        "\n",
        "# we generate 10_000 rows and 5 columns\n",
        "n, k = 10_000, 5\n",
        "X = np.concatenate([np.ones((n, 1)), normal(0, 1, (n, k))], axis=1)\n",
        "\n",
        "# these are the true coefficients that we have to learn\n",
        "true_w = normal(0, 5, (k + 1,))\n",
        "# this is the generated dataset used in training\n",
        "y = X @ true_w\n",
        "W = normal(0, 1, (k + 1,))\n",
        "\n",
        "stepsize = 0.02\n",
        "n_step = 100\n",
        "hist_gd = zeros((n_step,))\n",
        "for i in tqdm.tqdm(range(n_step)):\n",
        "    # we calculate the gradient\n",
        "    dW = grad_fun(W, inputs=X, targets=y)\n",
        "    # we apply the gradient\n",
        "    W -= dW*stepsize\n",
        "    # we keep track of the loss over time\n",
        "    hist_gd[i] = mse(W, inputs=X, targets=y)\n"
      ],
      "metadata": {
        "colab": {
          "base_uri": "https://localhost:8080/"
        },
        "id": "U0sGMC6ZE3nJ",
        "outputId": "3600eaa0-f74f-4330-e282-592e2c407683"
      },
      "execution_count": 15,
      "outputs": [
        {
          "output_type": "stream",
          "name": "stderr",
          "text": [
            "100%|██████████| 100/100 [00:00<00:00, 164.64it/s]\n"
          ]
        }
      ]
    },
    {
      "cell_type": "code",
      "source": [
        "import matplotlib.pylab as plt\n",
        "\n",
        "plt.figure(figsize=(20, 4))\n",
        "plt.plot(hist_gd)\n",
        "plt.ylim(0);\n"
      ],
      "metadata": {
        "colab": {
          "base_uri": "https://localhost:8080/",
          "height": 265
        },
        "id": "XKOImiEvFBKC",
        "outputId": "2f5dfe86-4499-4ad4-d3b5-2773409af44f"
      },
      "execution_count": 16,
      "outputs": [
        {
          "output_type": "display_data",
          "data": {
            "image/png": "[encoded data removed]",
            "text/plain": [
              "<Figure size 1440x288 with 1 Axes>"
            ]
          },
          "metadata": {
            "needs_background": "light"
          }
        }
      ]
    }
  ]
}